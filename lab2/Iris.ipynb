{
 "cells": [
  {
   "cell_type": "code",
   "execution_count": 35,
   "metadata": {
    "collapsed": false,
    "scrolled": true
   },
   "outputs": [],
   "source": [
    "import numpy as np\n",
    "from sklearn.datasets import load_iris\n",
    "from sklearn import tree\n",
    "iris = load_iris()\n"
   ]
  },
  {
   "cell_type": "code",
   "execution_count": 22,
   "metadata": {
    "collapsed": false
   },
   "outputs": [
    {
     "name": "stdout",
     "output_type": "stream",
     "text": [
      "Target:\t setosa \tValue:\t 0\n",
      "Target:\t versicolor \tValue:\t 1\n",
      "Target:\t virginica \tValue:\t 2\n"
     ]
    }
   ],
   "source": [
    "for i in range(len(iris.target_names)):\n",
    "    print(\"Target:\\t\", iris.target_names[i], \"\\tValue:\\t\", i)"
   ]
  },
  {
   "cell_type": "code",
   "execution_count": 25,
   "metadata": {
    "collapsed": false,
    "scrolled": true
   },
   "outputs": [
    {
     "name": "stdout",
     "output_type": "stream",
     "text": [
      "Features:  sepal length (cm), sepal width (cm), petal length (cm), petal width (cm)\n"
     ]
    }
   ],
   "source": [
    "print(\"Features: \", \", \".join(e for e in iris.feature_names))"
   ]
  },
  {
   "cell_type": "code",
   "execution_count": 27,
   "metadata": {
    "collapsed": false
   },
   "outputs": [
    {
     "name": "stdout",
     "output_type": "stream",
     "text": [
      "0 [ 5.1  3.5  1.4  0.2] 0\n",
      "1 [ 4.9  3.   1.4  0.2] 0\n",
      "2 [ 4.7  3.2  1.3  0.2] 0\n",
      "3 [ 4.6  3.1  1.5  0.2] 0\n",
      "4 [ 5.   3.6  1.4  0.2] 0\n",
      "5 [ 5.4  3.9  1.7  0.4] 0\n",
      "6 [ 4.6  3.4  1.4  0.3] 0\n",
      "7 [ 5.   3.4  1.5  0.2] 0\n",
      "8 [ 4.4  2.9  1.4  0.2] 0\n",
      "9 [ 4.9  3.1  1.5  0.1] 0\n",
      "10 [ 5.4  3.7  1.5  0.2] 0\n",
      "11 [ 4.8  3.4  1.6  0.2] 0\n",
      "12 [ 4.8  3.   1.4  0.1] 0\n",
      "13 [ 4.3  3.   1.1  0.1] 0\n",
      "14 [ 5.8  4.   1.2  0.2] 0\n",
      "15 [ 5.7  4.4  1.5  0.4] 0\n",
      "16 [ 5.4  3.9  1.3  0.4] 0\n",
      "17 [ 5.1  3.5  1.4  0.3] 0\n",
      "18 [ 5.7  3.8  1.7  0.3] 0\n",
      "19 [ 5.1  3.8  1.5  0.3] 0\n",
      "20 [ 5.4  3.4  1.7  0.2] 0\n",
      "21 [ 5.1  3.7  1.5  0.4] 0\n",
      "22 [ 4.6  3.6  1.   0.2] 0\n",
      "23 [ 5.1  3.3  1.7  0.5] 0\n",
      "24 [ 4.8  3.4  1.9  0.2] 0\n",
      "25 [ 5.   3.   1.6  0.2] 0\n",
      "26 [ 5.   3.4  1.6  0.4] 0\n",
      "27 [ 5.2  3.5  1.5  0.2] 0\n",
      "28 [ 5.2  3.4  1.4  0.2] 0\n",
      "29 [ 4.7  3.2  1.6  0.2] 0\n",
      "30 [ 4.8  3.1  1.6  0.2] 0\n",
      "31 [ 5.4  3.4  1.5  0.4] 0\n",
      "32 [ 5.2  4.1  1.5  0.1] 0\n",
      "33 [ 5.5  4.2  1.4  0.2] 0\n",
      "34 [ 4.9  3.1  1.5  0.1] 0\n",
      "35 [ 5.   3.2  1.2  0.2] 0\n",
      "36 [ 5.5  3.5  1.3  0.2] 0\n",
      "37 [ 4.9  3.1  1.5  0.1] 0\n",
      "38 [ 4.4  3.   1.3  0.2] 0\n",
      "39 [ 5.1  3.4  1.5  0.2] 0\n",
      "40 [ 5.   3.5  1.3  0.3] 0\n",
      "41 [ 4.5  2.3  1.3  0.3] 0\n",
      "42 [ 4.4  3.2  1.3  0.2] 0\n",
      "43 [ 5.   3.5  1.6  0.6] 0\n",
      "44 [ 5.1  3.8  1.9  0.4] 0\n",
      "45 [ 4.8  3.   1.4  0.3] 0\n",
      "46 [ 5.1  3.8  1.6  0.2] 0\n",
      "47 [ 4.6  3.2  1.4  0.2] 0\n",
      "48 [ 5.3  3.7  1.5  0.2] 0\n",
      "49 [ 5.   3.3  1.4  0.2] 0\n",
      "50 [ 7.   3.2  4.7  1.4] 1\n",
      "51 [ 6.4  3.2  4.5  1.5] 1\n",
      "52 [ 6.9  3.1  4.9  1.5] 1\n",
      "53 [ 5.5  2.3  4.   1.3] 1\n",
      "54 [ 6.5  2.8  4.6  1.5] 1\n",
      "55 [ 5.7  2.8  4.5  1.3] 1\n",
      "56 [ 6.3  3.3  4.7  1.6] 1\n",
      "57 [ 4.9  2.4  3.3  1. ] 1\n",
      "58 [ 6.6  2.9  4.6  1.3] 1\n",
      "59 [ 5.2  2.7  3.9  1.4] 1\n",
      "60 [ 5.   2.   3.5  1. ] 1\n",
      "61 [ 5.9  3.   4.2  1.5] 1\n",
      "62 [ 6.   2.2  4.   1. ] 1\n",
      "63 [ 6.1  2.9  4.7  1.4] 1\n",
      "64 [ 5.6  2.9  3.6  1.3] 1\n",
      "65 [ 6.7  3.1  4.4  1.4] 1\n",
      "66 [ 5.6  3.   4.5  1.5] 1\n",
      "67 [ 5.8  2.7  4.1  1. ] 1\n",
      "68 [ 6.2  2.2  4.5  1.5] 1\n",
      "69 [ 5.6  2.5  3.9  1.1] 1\n",
      "70 [ 5.9  3.2  4.8  1.8] 1\n",
      "71 [ 6.1  2.8  4.   1.3] 1\n",
      "72 [ 6.3  2.5  4.9  1.5] 1\n",
      "73 [ 6.1  2.8  4.7  1.2] 1\n",
      "74 [ 6.4  2.9  4.3  1.3] 1\n",
      "75 [ 6.6  3.   4.4  1.4] 1\n",
      "76 [ 6.8  2.8  4.8  1.4] 1\n",
      "77 [ 6.7  3.   5.   1.7] 1\n",
      "78 [ 6.   2.9  4.5  1.5] 1\n",
      "79 [ 5.7  2.6  3.5  1. ] 1\n",
      "80 [ 5.5  2.4  3.8  1.1] 1\n",
      "81 [ 5.5  2.4  3.7  1. ] 1\n",
      "82 [ 5.8  2.7  3.9  1.2] 1\n",
      "83 [ 6.   2.7  5.1  1.6] 1\n",
      "84 [ 5.4  3.   4.5  1.5] 1\n",
      "85 [ 6.   3.4  4.5  1.6] 1\n",
      "86 [ 6.7  3.1  4.7  1.5] 1\n",
      "87 [ 6.3  2.3  4.4  1.3] 1\n",
      "88 [ 5.6  3.   4.1  1.3] 1\n",
      "89 [ 5.5  2.5  4.   1.3] 1\n",
      "90 [ 5.5  2.6  4.4  1.2] 1\n",
      "91 [ 6.1  3.   4.6  1.4] 1\n",
      "92 [ 5.8  2.6  4.   1.2] 1\n",
      "93 [ 5.   2.3  3.3  1. ] 1\n",
      "94 [ 5.6  2.7  4.2  1.3] 1\n",
      "95 [ 5.7  3.   4.2  1.2] 1\n",
      "96 [ 5.7  2.9  4.2  1.3] 1\n",
      "97 [ 6.2  2.9  4.3  1.3] 1\n",
      "98 [ 5.1  2.5  3.   1.1] 1\n",
      "99 [ 5.7  2.8  4.1  1.3] 1\n",
      "100 [ 6.3  3.3  6.   2.5] 2\n",
      "101 [ 5.8  2.7  5.1  1.9] 2\n",
      "102 [ 7.1  3.   5.9  2.1] 2\n",
      "103 [ 6.3  2.9  5.6  1.8] 2\n",
      "104 [ 6.5  3.   5.8  2.2] 2\n",
      "105 [ 7.6  3.   6.6  2.1] 2\n",
      "106 [ 4.9  2.5  4.5  1.7] 2\n",
      "107 [ 7.3  2.9  6.3  1.8] 2\n",
      "108 [ 6.7  2.5  5.8  1.8] 2\n",
      "109 [ 7.2  3.6  6.1  2.5] 2\n",
      "110 [ 6.5  3.2  5.1  2. ] 2\n",
      "111 [ 6.4  2.7  5.3  1.9] 2\n",
      "112 [ 6.8  3.   5.5  2.1] 2\n",
      "113 [ 5.7  2.5  5.   2. ] 2\n",
      "114 [ 5.8  2.8  5.1  2.4] 2\n",
      "115 [ 6.4  3.2  5.3  2.3] 2\n",
      "116 [ 6.5  3.   5.5  1.8] 2\n",
      "117 [ 7.7  3.8  6.7  2.2] 2\n",
      "118 [ 7.7  2.6  6.9  2.3] 2\n",
      "119 [ 6.   2.2  5.   1.5] 2\n",
      "120 [ 6.9  3.2  5.7  2.3] 2\n",
      "121 [ 5.6  2.8  4.9  2. ] 2\n",
      "122 [ 7.7  2.8  6.7  2. ] 2\n",
      "123 [ 6.3  2.7  4.9  1.8] 2\n",
      "124 [ 6.7  3.3  5.7  2.1] 2\n",
      "125 [ 7.2  3.2  6.   1.8] 2\n",
      "126 [ 6.2  2.8  4.8  1.8] 2\n",
      "127 [ 6.1  3.   4.9  1.8] 2\n",
      "128 [ 6.4  2.8  5.6  2.1] 2\n",
      "129 [ 7.2  3.   5.8  1.6] 2\n",
      "130 [ 7.4  2.8  6.1  1.9] 2\n",
      "131 [ 7.9  3.8  6.4  2. ] 2\n",
      "132 [ 6.4  2.8  5.6  2.2] 2\n",
      "133 [ 6.3  2.8  5.1  1.5] 2\n",
      "134 [ 6.1  2.6  5.6  1.4] 2\n",
      "135 [ 7.7  3.   6.1  2.3] 2\n",
      "136 [ 6.3  3.4  5.6  2.4] 2\n",
      "137 [ 6.4  3.1  5.5  1.8] 2\n",
      "138 [ 6.   3.   4.8  1.8] 2\n",
      "139 [ 6.9  3.1  5.4  2.1] 2\n",
      "140 [ 6.7  3.1  5.6  2.4] 2\n",
      "141 [ 6.9  3.1  5.1  2.3] 2\n",
      "142 [ 5.8  2.7  5.1  1.9] 2\n",
      "143 [ 6.8  3.2  5.9  2.3] 2\n",
      "144 [ 6.7  3.3  5.7  2.5] 2\n",
      "145 [ 6.7  3.   5.2  2.3] 2\n",
      "146 [ 6.3  2.5  5.   1.9] 2\n",
      "147 [ 6.5  3.   5.2  2. ] 2\n",
      "148 [ 6.2  3.4  5.4  2.3] 2\n",
      "149 [ 5.9  3.   5.1  1.8] 2\n"
     ]
    }
   ],
   "source": [
    "for i in range(len(iris.target)):\n",
    "    print(i, iris.data[i], iris.target[i])"
   ]
  },
  {
   "cell_type": "code",
   "execution_count": 29,
   "metadata": {
    "collapsed": false
   },
   "outputs": [],
   "source": [
    "test_idx = [0, 50, 100] #keep some testing data around"
   ]
  },
  {
   "cell_type": "code",
   "execution_count": 31,
   "metadata": {
    "collapsed": true
   },
   "outputs": [],
   "source": [
    "#training data\n",
    "train_target = np.delete(iris.target, test_idx)\n",
    "train_data = np.delete(iris.data, test_idx, axis=0)"
   ]
  },
  {
   "cell_type": "code",
   "execution_count": 32,
   "metadata": {
    "collapsed": true
   },
   "outputs": [],
   "source": [
    "#testing data\n",
    "test_target = iris.target[test_idx]\n",
    "test_data = iris.data[test_idx]"
   ]
  },
  {
   "cell_type": "code",
   "execution_count": 36,
   "metadata": {
    "collapsed": false
   },
   "outputs": [
    {
     "data": {
      "text/plain": [
       "DecisionTreeClassifier(class_weight=None, criterion='gini', max_depth=None,\n",
       "            max_features=None, max_leaf_nodes=None, min_samples_leaf=1,\n",
       "            min_samples_split=2, min_weight_fraction_leaf=0.0,\n",
       "            presort=False, random_state=None, splitter='best')"
      ]
     },
     "execution_count": 36,
     "metadata": {},
     "output_type": "execute_result"
    }
   ],
   "source": [
    "clf = tree.DecisionTreeClassifier()\n",
    "clf.fit(train_data, train_target)"
   ]
  },
  {
   "cell_type": "code",
   "execution_count": 39,
   "metadata": {
    "collapsed": false
   },
   "outputs": [
    {
     "name": "stdout",
     "output_type": "stream",
     "text": [
      "[0 1 2]\n",
      "[0 1 2]\n"
     ]
    }
   ],
   "source": [
    "print(test_target)\n",
    "print(clf.predict(test_data))"
   ]
  },
  {
   "cell_type": "code",
   "execution_count": 53,
   "metadata": {
    "collapsed": false
   },
   "outputs": [],
   "source": [
    "#visualize here\n",
    "from sklearn.externals.six import StringIO\n",
    "file = open('tree.dot', 'w+')\n",
    "tree.export_graphviz(clf,\n",
    "                    out_file=file,\n",
    "                    feature_names=iris.feature_names,\n",
    "                    class_names=iris.target_names,\n",
    "                    filled=True, rounded=True,\n",
    "                    impurity=False)\n",
    "file.close()"
   ]
  },
  {
   "cell_type": "markdown",
   "metadata": {},
   "source": [
    "# Visualize The Data\n",
    "`$ xdot tree.dot`"
   ]
  },
  {
   "cell_type": "code",
   "execution_count": null,
   "metadata": {
    "collapsed": true
   },
   "outputs": [],
   "source": []
  }
 ],
 "metadata": {
  "kernelspec": {
   "display_name": "Python 3",
   "language": "python",
   "name": "python3"
  },
  "language_info": {
   "codemirror_mode": {
    "name": "ipython",
    "version": 3
   },
   "file_extension": ".py",
   "mimetype": "text/x-python",
   "name": "python",
   "nbconvert_exporter": "python",
   "pygments_lexer": "ipython3",
   "version": "3.5.1"
  }
 },
 "nbformat": 4,
 "nbformat_minor": 0
}
